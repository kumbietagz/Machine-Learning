{
  "nbformat": 4,
  "nbformat_minor": 0,
  "metadata": {
    "colab": {
      "name": "Celsius to Fahren.ipynb",
      "provenance": [],
      "authorship_tag": "ABX9TyOx1h/laOycXHMauEXPdpcF",
      "include_colab_link": true
    },
    "kernelspec": {
      "name": "python3",
      "display_name": "Python 3"
    }
  },
  "cells": [
    {
      "cell_type": "markdown",
      "metadata": {
        "id": "view-in-github",
        "colab_type": "text"
      },
      "source": [
        "<a href=\"https://colab.research.google.com/github/kumbietagz/Machine-Learning/blob/master/Celsius_to_Fahren.ipynb\" target=\"_parent\"><img src=\"https://colab.research.google.com/assets/colab-badge.svg\" alt=\"Open In Colab\"/></a>"
      ]
    },
    {
      "cell_type": "code",
      "metadata": {
        "id": "3te4qJWD0FCH",
        "colab_type": "code",
        "colab": {
          "base_uri": "https://localhost:8080/",
          "height": 136
        },
        "outputId": "6a14f55c-d6ab-4a25-c7bb-3e53463145d6"
      },
      "source": [
        "import tensorflow as tf\n",
        "tf.compat.v1.logging.set_verbosity(tf.compat.v1.logging.ERROR)\n",
        "\n",
        "import numpy as np\n",
        "\n",
        "celsius_q=    np.array ([-40, -10,  0,  8, 15,  22, 38], dtype=float)\n",
        "fahrenheit_a= np.array ([-40,  14, 32, 46, 59, 72, 100], dtype=float)\n",
        "for i,c in enumerate(celsius_q):\n",
        "  print(\"{} degrees celsius = {} degrees fahrenheit_a\".format(c, fahrenheit_a[i]))\n"
      ],
      "execution_count": null,
      "outputs": [
        {
          "output_type": "stream",
          "text": [
            "-40.0 degrees celsius = -40.0 degrees fahrenheit_a\n",
            "-10.0 degrees celsius = 14.0 degrees fahrenheit_a\n",
            "0.0 degrees celsius = 32.0 degrees fahrenheit_a\n",
            "8.0 degrees celsius = 46.0 degrees fahrenheit_a\n",
            "15.0 degrees celsius = 59.0 degrees fahrenheit_a\n",
            "22.0 degrees celsius = 72.0 degrees fahrenheit_a\n",
            "38.0 degrees celsius = 100.0 degrees fahrenheit_a\n"
          ],
          "name": "stdout"
        }
      ]
    },
    {
      "cell_type": "code",
      "metadata": {
        "id": "eYMCCk5-BCFH",
        "colab_type": "code",
        "colab": {}
      },
      "source": [
        "  l0 = tf.keras.layers.Dense(units=1, input_shape=[1])"
      ],
      "execution_count": null,
      "outputs": []
    },
    {
      "cell_type": "code",
      "metadata": {
        "id": "XYo2jxcDBLzj",
        "colab_type": "code",
        "colab": {}
      },
      "source": [
        "model = tf.keras.Sequential([l0])"
      ],
      "execution_count": null,
      "outputs": []
    },
    {
      "cell_type": "code",
      "metadata": {
        "id": "zZflXXCwCBO4",
        "colab_type": "code",
        "colab": {}
      },
      "source": [
        "model.compile(loss='mean_squared_error', optimizer=tf.keras.optimizers.Adam(0.1))"
      ],
      "execution_count": null,
      "outputs": []
    },
    {
      "cell_type": "code",
      "metadata": {
        "id": "YyjeVUMWDTTZ",
        "colab_type": "code",
        "colab": {
          "base_uri": "https://localhost:8080/",
          "height": 34
        },
        "outputId": "d11f1ca1-b5ae-47f8-deb3-f3fcd0f2acc4"
      },
      "source": [
        "history = model.fit(celsius_q, fahrenheit_a, epochs=500, verbose=False)\n",
        "print(\"finished training the model\")"
      ],
      "execution_count": null,
      "outputs": [
        {
          "output_type": "stream",
          "text": [
            "finished training the model\n"
          ],
          "name": "stdout"
        }
      ]
    },
    {
      "cell_type": "code",
      "metadata": {
        "id": "Pk-WXBJkKYrx",
        "colab_type": "code",
        "colab": {
          "base_uri": "https://localhost:8080/",
          "height": 296
        },
        "outputId": "96051428-9576-4845-c6dc-6f22e5a8a38e"
      },
      "source": [
        "import matplotlib.pyplot as plt\n",
        "plt.xlabel('Epoch Number')\n",
        "plt.ylabel(\"Loss Magnitude\")\n",
        "plt.plot(history.history['loss'])"
      ],
      "execution_count": null,
      "outputs": [
        {
          "output_type": "execute_result",
          "data": {
            "text/plain": [
              "[<matplotlib.lines.Line2D at 0x7fa469dc3358>]"
            ]
          },
          "metadata": {
            "tags": []
          },
          "execution_count": 44
        },
        {
          "output_type": "display_data",
          "data": {
            "image/png": "[encoded data removed]",
            "text/plain": [
              "<Figure size 432x288 with 1 Axes>"
            ]
          },
          "metadata": {
            "tags": [],
            "needs_background": "light"
          }
        }
      ]
    },
    {
      "cell_type": "code",
      "metadata": {
        "id": "-gNBfTfZUZdp",
        "colab_type": "code",
        "colab": {
          "base_uri": "https://localhost:8080/",
          "height": 34
        },
        "outputId": "ea6d338a-65c3-4d72-c4f8-140d2090184b"
      },
      "source": [
        "print(model.predict([100.0]))\n"
      ],
      "execution_count": null,
      "outputs": [
        {
          "output_type": "stream",
          "text": [
            "[[211.33702]]\n"
          ],
          "name": "stdout"
        }
      ]
    },
    {
      "cell_type": "code",
      "metadata": {
        "id": "71k829EgVPcg",
        "colab_type": "code",
        "colab": {
          "base_uri": "https://localhost:8080/",
          "height": 34
        },
        "outputId": "8c0a0a3f-6335-4d25-aa53-6df5cb219cb8"
      },
      "source": [
        "print(\"These are the layer variables: {} \".format(l0.get_weights()))"
      ],
      "execution_count": null,
      "outputs": [
        {
          "output_type": "stream",
          "text": [
            "These are the layer variables: [array([[1.8206723]], dtype=float32), array([29.26979], dtype=float32)] \n"
          ],
          "name": "stdout"
        }
      ]
    },
    {
      "cell_type": "code",
      "metadata": {
        "id": "e914X2S0X26Y",
        "colab_type": "code",
        "colab": {
          "base_uri": "https://localhost:8080/",
          "height": 255
        },
        "outputId": "3087b2c7-0f8d-4d99-c567-901f52301644"
      },
      "source": [
        "l0 = tf.keras.layers.Dense(units=4, input_shape=[1])\n",
        "l1 = tf.keras.layers.Dense(units=4)\n",
        "l2 = tf.keras.layers.Dense(units=1)\n",
        "model = tf.keras.Sequential([l0, l1, l2])\n",
        "model.compile(loss='mean_squared_error', optimizer=tf.keras.optimizers.Adam(0.1))\n",
        "model.fit(celsius_q, fahrenheit_a, epochs=500, verbose=False)\n",
        "print(\"finished training the model\")\n",
        "print(model.predict([100.0]))\n",
        "print(\"Model predicts that 100 degrees celsius is: {} degrees Fahrenheit \".format(model.predict([100.0])))\n",
        "print(\"These are the l0 variables: {} \".format(l0.get_weights()))\n",
        "print(\"These are the l1 variables: {} \".format(l1.get_weights()))\n",
        "print(\"These are the l2 variables: {} \".format(l2.get_weights()))\n"
      ],
      "execution_count": null,
      "outputs": [
        {
          "output_type": "stream",
          "text": [
            "finished training the model\n",
            "[[211.74744]]\n",
            "Model predicts that 100 degrees celsius is: [[211.74744]] degrees Fahrenheit \n",
            "These are the 10 variables: [array([[-0.58610207,  0.00284232,  0.28024715, -0.36356676]],\n",
            "      dtype=float32), array([-2.901921 , -2.2259758,  2.491798 ,  1.7680889], dtype=float32)] \n",
            "These are the 11 variables: [array([[-1.4945393 , -0.13453512,  0.06458284, -0.7369549 ],\n",
            "       [-0.0787947 , -1.1589942 , -0.6750279 , -1.1532416 ],\n",
            "       [ 1.06758   ,  1.0423113 ,  0.2769271 ,  0.3093605 ],\n",
            "       [ 0.448919  ,  0.98304725,  0.2538801 ,  0.42500588]],\n",
            "      dtype=float32), array([ 3.1957436,  3.1537266, -1.8321041,  1.6437131], dtype=float32)] \n",
            "These are the 12 variables: [array([[ 1.7355593 ],\n",
            "       [ 0.9603196 ],\n",
            "       [-0.6143043 ],\n",
            "       [-0.00341133]], dtype=float32), array([2.9446604], dtype=float32)] \n"
          ],
          "name": "stdout"
        }
      ]
    }
  ]
}